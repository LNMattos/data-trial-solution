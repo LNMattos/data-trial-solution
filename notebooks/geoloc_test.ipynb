{
 "cells": [
  {
   "cell_type": "code",
   "execution_count": 1,
   "id": "b867cf86-56fc-426e-b21b-203c7da5e4da",
   "metadata": {},
   "outputs": [
    {
     "name": "stdout",
     "output_type": "stream",
     "text": [
      "Collecting geopy\n",
      "  Downloading geopy-2.4.1-py3-none-any.whl.metadata (6.8 kB)\n",
      "Collecting geographiclib<3,>=1.52 (from geopy)\n",
      "  Downloading geographiclib-2.0-py3-none-any.whl.metadata (1.4 kB)\n",
      "Downloading geopy-2.4.1-py3-none-any.whl (125 kB)\n",
      "\u001b[2K   \u001b[90m━━━━━━━━━━━━━━━━━━━━━━━━━━━━━━━━━━━━━━━\u001b[0m \u001b[32m125.4/125.4 kB\u001b[0m \u001b[31m916.7 kB/s\u001b[0m eta \u001b[36m0:00:00\u001b[0ma \u001b[36m0:00:01\u001b[0m\n",
      "\u001b[?25hDownloading geographiclib-2.0-py3-none-any.whl (40 kB)\n",
      "\u001b[2K   \u001b[90m━━━━━━━━━━━━━━━━━━━━━━━━━━━━━━━━━━━━━━━━\u001b[0m \u001b[32m40.3/40.3 kB\u001b[0m \u001b[31m2.7 MB/s\u001b[0m eta \u001b[36m0:00:00\u001b[0m\n",
      "\u001b[?25hInstalling collected packages: geographiclib, geopy\n",
      "Successfully installed geographiclib-2.0 geopy-2.4.1\n",
      "Note: you may need to restart the kernel to use updated packages.\n"
     ]
    }
   ],
   "source": [
    "pip install geopy\n"
   ]
  },
  {
   "cell_type": "code",
   "execution_count": 2,
   "id": "a92a3831-4cc5-4ef0-8174-4ff28b5f3538",
   "metadata": {},
   "outputs": [],
   "source": [
    "from geopy.geocoders import Nominatim\n",
    "from geopy.exc import GeocoderServiceError, GeocoderTimedOut, GeocoderUnavailable\n",
    "\n",
    "def obter_coordenadas(endereco_ou_codigo_postal):\n",
    "    \"\"\"\n",
    "    Recebe um endereço ou código postal e retorna a latitude e longitude.\n",
    "    \n",
    "    Parâmetros:\n",
    "        endereco_ou_codigo_postal (str): O endereço completo ou código postal nos EUA.\n",
    "    \n",
    "    Retorna:\n",
    "        tuple: (latitude, longitude) se encontrado.\n",
    "        None: Se não for possível encontrar as coordenadas ou ocorrer um erro.\n",
    "    \"\"\"\n",
    "    # Inicializa o geocodificador com um user_agent único\n",
    "    geolocator = Nominatim(user_agent=\"seu_app_nome\")  # Substitua \"seu_app_nome\" pelo nome do seu aplicativo\n",
    "\n",
    "    try:\n",
    "        # Tenta geocodificar o endereço ou código postal\n",
    "        location = geolocator.geocode(endereco_ou_codigo_postal, timeout=10)\n",
    "        \n",
    "        if location:\n",
    "            return (location.latitude, location.longitude)\n",
    "        else:\n",
    "            print(\"Nenhuma coordenada encontrada para o endereço ou código postal fornecido.\")\n",
    "            return None\n",
    "\n",
    "    except GeocoderTimedOut:\n",
    "        print(\"Tempo de espera excedido ao tentar se conectar com o serviço de geocodificação.\")\n",
    "        return None\n",
    "    except GeocoderServiceError as e:\n",
    "        print(f\"Erro no serviço de geocodificação: {e}\")\n",
    "        return None\n",
    "    except GeocoderUnavailable:\n",
    "        print(\"Serviço de geocodificação indisponível no momento.\")\n",
    "        return None\n",
    "    except Exception as e:\n",
    "        print(f\"Ocorreu um erro inesperado: {e}\")\n",
    "        return None\n"
   ]
  },
  {
   "cell_type": "code",
   "execution_count": 6,
   "id": "501c2241-cc56-4757-b2d6-47832409f622",
   "metadata": {},
   "outputs": [
    {
     "data": {
      "text/plain": [
       "(-3.1198444, -59.9888505)"
      ]
     },
     "execution_count": 6,
     "metadata": {},
     "output_type": "execute_result"
    }
   ],
   "source": [
    "obter_coordenadas(\"Rua ilidio lopes 459, japiim\")"
   ]
  },
  {
   "cell_type": "code",
   "execution_count": 2,
   "id": "2962c1e8-cd2f-4046-9d19-04c26075ff9f",
   "metadata": {},
   "outputs": [
    {
     "data": {
      "text/plain": [
       "(38.897699700000004, -77.03655315)"
      ]
     },
     "execution_count": 2,
     "metadata": {},
     "output_type": "execute_result"
    }
   ],
   "source": [
    "obter_coordenadas(\"1600 Pennsylvania Avenue NW, Washington, DC 20500\")"
   ]
  },
  {
   "cell_type": "code",
   "execution_count": null,
   "id": "ec26e302-d5e7-4311-8d5a-3fded807909c",
   "metadata": {},
   "outputs": [],
   "source": []
  }
 ],
 "metadata": {
  "kernelspec": {
   "display_name": "Python 3 (ipykernel)",
   "language": "python",
   "name": "python3"
  },
  "language_info": {
   "codemirror_mode": {
    "name": "ipython",
    "version": 3
   },
   "file_extension": ".py",
   "mimetype": "text/x-python",
   "name": "python",
   "nbconvert_exporter": "python",
   "pygments_lexer": "ipython3",
   "version": "3.11.6"
  }
 },
 "nbformat": 4,
 "nbformat_minor": 5
}
