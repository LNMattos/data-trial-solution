{
 "cells": [
  {
   "cell_type": "code",
   "execution_count": 1,
   "metadata": {},
   "outputs": [
    {
     "name": "stdout",
     "output_type": "stream",
     "text": [
      "Requirement already satisfied: pandas in /opt/conda/lib/python3.11/site-packages (2.0.3)\n",
      "Collecting psycopg2-binary\n",
      "  Downloading psycopg2_binary-2.9.10-cp311-cp311-manylinux_2_17_x86_64.manylinux2014_x86_64.whl.metadata (4.9 kB)\n",
      "Requirement already satisfied: python-dateutil>=2.8.2 in /opt/conda/lib/python3.11/site-packages (from pandas) (2.8.2)\n",
      "Requirement already satisfied: pytz>=2020.1 in /opt/conda/lib/python3.11/site-packages (from pandas) (2023.3.post1)\n",
      "Requirement already satisfied: tzdata>=2022.1 in /opt/conda/lib/python3.11/site-packages (from pandas) (2023.3)\n",
      "Requirement already satisfied: numpy>=1.21.0 in /opt/conda/lib/python3.11/site-packages (from pandas) (1.24.4)\n",
      "Requirement already satisfied: six>=1.5 in /opt/conda/lib/python3.11/site-packages (from python-dateutil>=2.8.2->pandas) (1.16.0)\n",
      "Downloading psycopg2_binary-2.9.10-cp311-cp311-manylinux_2_17_x86_64.manylinux2014_x86_64.whl (3.0 MB)\n",
      "\u001b[2K   \u001b[90m━━━━━━━━━━━━━━━━━━━━━━━━━━━━━━━━━━━━━━━━\u001b[0m \u001b[32m3.0/3.0 MB\u001b[0m \u001b[31m6.3 MB/s\u001b[0m eta \u001b[36m0:00:00\u001b[0ma \u001b[36m0:00:01\u001b[0m0m\n",
      "\u001b[?25hInstalling collected packages: psycopg2-binary\n",
      "Successfully installed psycopg2-binary-2.9.10\n",
      "Note: you may need to restart the kernel to use updated packages.\n"
     ]
    }
   ],
   "source": [
    "pip install pandas psycopg2-binary"
   ]
  },
  {
   "cell_type": "code",
   "execution_count": 198,
   "metadata": {},
   "outputs": [],
   "source": [
    "import pandas as pd\n",
    "import psycopg2 as pg"
   ]
  },
  {
   "cell_type": "code",
   "execution_count": 84,
   "metadata": {},
   "outputs": [],
   "source": [
    "types_considered = ['Real estate agency',\n",
    "                    'Real estate consultant',\n",
    "                    'Real estate agent',\n",
    "                    'Property investment',\n",
    "                    'Property management company',\n",
    "                    'Real estate agency',\n",
    "                    'Real estate consultant',\n",
    "                    'Real estate agent']\n",
    "\n",
    "types_considered_str = ', '.join(f\"'{t}'\" for t in types_considered)\n",
    "type_filter = f\"type in ({types_considered_str})\"\n"
   ]
  },
  {
   "cell_type": "markdown",
   "metadata": {},
   "source": [
    "### Top real state companies by city"
   ]
  },
  {
   "cell_type": "markdown",
   "metadata": {},
   "source": [
    "The function \"get_company_profiles_city_state_type_sorted_by_score\" allows a user to retrive top n real state companies, by city or state, ordered by company_score"
   ]
  },
  {
   "cell_type": "code",
   "execution_count": 77,
   "metadata": {},
   "outputs": [],
   "source": [
    "def get_company_profiles_city_state_type_sorted_by_score(\n",
    "    engine, \n",
    "    city=None, \n",
    "    state=None, \n",
    "    type=None, \n",
    "    limit=None\n",
    "):\n",
    "    \"\"\"\n",
    "    Retrieves company profiles from the database with optional filtering by city, state, and type.\n",
    "    \"\"\"\n",
    "    \n",
    "    query = \"\"\"\n",
    "    SELECT \n",
    "        dc.name, \n",
    "        dc.type, \n",
    "        dc.city, \n",
    "        dc.state, \n",
    "        dc.rating, \n",
    "        dc.reviews, \n",
    "        fc.company_profile_score AS company_score\n",
    "    FROM \n",
    "        curated_dim_company_profiles_google_maps dc\n",
    "    INNER JOIN\n",
    "        curated_score_company_profiles_google_maps fc\n",
    "    ON\n",
    "        dc.google_id = fc.google_id\n",
    "    WHERE \n",
    "        verified = 1\n",
    "    \"\"\"\n",
    "    params = {}\n",
    "    \n",
    "    if type is not None:\n",
    "        type = [val.upper() for val in type] if isinstance(type, list) else type.upper()\n",
    "        type_clause, type_params = add_filter(\"UPPER(dc.type)\", type, \"type\")\n",
    "        query += type_clause\n",
    "        params.update(type_params)\n",
    "        \n",
    "    if city is not None:\n",
    "        city = [val.capitalize() for val in city] if isinstance(city, list) else city.capitalize()\n",
    "        city_clause, city_params = add_filter(\"dc.city\", city, \"city\")\n",
    "        query += city_clause\n",
    "        params.update(city_params)\n",
    "        \n",
    "    if state is not None:\n",
    "        state = [val.capitalize() for val in state] if isinstance(state, list) else state.capitalize()\n",
    "        state_clause, state_params = add_filter(\"dc.state\", state, \"state\")\n",
    "        query += state_clause\n",
    "        params.update(state_params)\n",
    "    \n",
    "    query += \" ORDER BY fc.company_profile_score DESC\"\n",
    "    \n",
    "    if limit is not None:\n",
    "        query += \" LIMIT %(limit)s\"\n",
    "        params['limit'] = limit\n",
    "\n",
    "    df = pd.read_sql(query, engine, params=params)\n",
    "    \n",
    "    return df\n",
    "\n",
    "def add_filter(field, value, param_name):\n",
    "    if isinstance(value, list):\n",
    "        placeholders = ', '.join([f\"%({param_name}_{i})s\" for i in range(len(value))])\n",
    "        return f\" AND {field} IN ({placeholders})\", {f\"{param_name}_{i}\": v for i, v in enumerate(value)}\n",
    "    else:\n",
    "        return f\" AND {field} = %({param_name})s\", {param_name: value}"
   ]
  },
  {
   "cell_type": "markdown",
   "metadata": {},
   "source": [
    "##### Miami"
   ]
  },
  {
   "cell_type": "code",
   "execution_count": 79,
   "metadata": {
    "scrolled": true
   },
   "outputs": [
    {
     "name": "stderr",
     "output_type": "stream",
     "text": [
      "/tmp/ipykernel_11092/4129417398.py:57: UserWarning: pandas only supports SQLAlchemy connectable (engine/connection) or database string URI or sqlite3 DBAPI2 connection. Other DBAPI2 objects are not tested. Please consider using SQLAlchemy.\n",
      "  df = pd.read_sql(query, engine, params=params)\n"
     ]
    },
    {
     "data": {
      "text/html": [
       "<div>\n",
       "<style scoped>\n",
       "    .dataframe tbody tr th:only-of-type {\n",
       "        vertical-align: middle;\n",
       "    }\n",
       "\n",
       "    .dataframe tbody tr th {\n",
       "        vertical-align: top;\n",
       "    }\n",
       "\n",
       "    .dataframe thead th {\n",
       "        text-align: right;\n",
       "    }\n",
       "</style>\n",
       "<table border=\"1\" class=\"dataframe\">\n",
       "  <thead>\n",
       "    <tr style=\"text-align: right;\">\n",
       "      <th></th>\n",
       "      <th>name</th>\n",
       "      <th>type</th>\n",
       "      <th>city</th>\n",
       "      <th>state</th>\n",
       "      <th>rating</th>\n",
       "      <th>reviews</th>\n",
       "      <th>company_score</th>\n",
       "    </tr>\n",
       "  </thead>\n",
       "  <tbody>\n",
       "    <tr>\n",
       "      <th>0</th>\n",
       "      <td>Homeinc- Miami</td>\n",
       "      <td>Real estate agent</td>\n",
       "      <td>Miami</td>\n",
       "      <td>Florida</td>\n",
       "      <td>5.0</td>\n",
       "      <td>222.0</td>\n",
       "      <td>0.871008</td>\n",
       "    </tr>\n",
       "    <tr>\n",
       "      <th>1</th>\n",
       "      <td>Melissa Adams, RE/MAX Advance Realty</td>\n",
       "      <td>Real estate agent</td>\n",
       "      <td>Miami</td>\n",
       "      <td>Florida</td>\n",
       "      <td>5.0</td>\n",
       "      <td>123.0</td>\n",
       "      <td>0.855385</td>\n",
       "    </tr>\n",
       "    <tr>\n",
       "      <th>2</th>\n",
       "      <td>Miami Condo Investments</td>\n",
       "      <td>Real estate agency</td>\n",
       "      <td>Miami</td>\n",
       "      <td>Florida</td>\n",
       "      <td>4.9</td>\n",
       "      <td>275.0</td>\n",
       "      <td>0.848471</td>\n",
       "    </tr>\n",
       "    <tr>\n",
       "      <th>3</th>\n",
       "      <td>Yeimy Ortiz PA - Real Estate Broker Associate</td>\n",
       "      <td>Real estate agent</td>\n",
       "      <td>Miami</td>\n",
       "      <td>Florida</td>\n",
       "      <td>5.0</td>\n",
       "      <td>167.0</td>\n",
       "      <td>0.848024</td>\n",
       "    </tr>\n",
       "    <tr>\n",
       "      <th>4</th>\n",
       "      <td>Miami Realty Solution Group</td>\n",
       "      <td>Real estate consultant</td>\n",
       "      <td>Miami</td>\n",
       "      <td>Florida</td>\n",
       "      <td>4.9</td>\n",
       "      <td>152.0</td>\n",
       "      <td>0.843714</td>\n",
       "    </tr>\n",
       "  </tbody>\n",
       "</table>\n",
       "</div>"
      ],
      "text/plain": [
       "                                            name                    type  \\\n",
       "0                                 Homeinc- Miami       Real estate agent   \n",
       "1           Melissa Adams, RE/MAX Advance Realty       Real estate agent   \n",
       "2                        Miami Condo Investments      Real estate agency   \n",
       "3  Yeimy Ortiz PA - Real Estate Broker Associate       Real estate agent   \n",
       "4                    Miami Realty Solution Group  Real estate consultant   \n",
       "\n",
       "    city    state  rating  reviews  company_score  \n",
       "0  Miami  Florida     5.0    222.0       0.871008  \n",
       "1  Miami  Florida     5.0    123.0       0.855385  \n",
       "2  Miami  Florida     4.9    275.0       0.848471  \n",
       "3  Miami  Florida     5.0    167.0       0.848024  \n",
       "4  Miami  Florida     4.9    152.0       0.843714  "
      ]
     },
     "execution_count": 79,
     "metadata": {},
     "output_type": "execute_result"
    }
   ],
   "source": [
    "get_company_profiles_city_state_type_sorted_by_score(engine, city=\"Miami\", type=types_considered, limit=5)"
   ]
  },
  {
   "cell_type": "markdown",
   "metadata": {},
   "source": [
    "##### Dallas"
   ]
  },
  {
   "cell_type": "code",
   "execution_count": 81,
   "metadata": {},
   "outputs": [
    {
     "name": "stderr",
     "output_type": "stream",
     "text": [
      "/tmp/ipykernel_11092/4129417398.py:57: UserWarning: pandas only supports SQLAlchemy connectable (engine/connection) or database string URI or sqlite3 DBAPI2 connection. Other DBAPI2 objects are not tested. Please consider using SQLAlchemy.\n",
      "  df = pd.read_sql(query, engine, params=params)\n"
     ]
    },
    {
     "data": {
      "text/html": [
       "<div>\n",
       "<style scoped>\n",
       "    .dataframe tbody tr th:only-of-type {\n",
       "        vertical-align: middle;\n",
       "    }\n",
       "\n",
       "    .dataframe tbody tr th {\n",
       "        vertical-align: top;\n",
       "    }\n",
       "\n",
       "    .dataframe thead th {\n",
       "        text-align: right;\n",
       "    }\n",
       "</style>\n",
       "<table border=\"1\" class=\"dataframe\">\n",
       "  <thead>\n",
       "    <tr style=\"text-align: right;\">\n",
       "      <th></th>\n",
       "      <th>name</th>\n",
       "      <th>type</th>\n",
       "      <th>city</th>\n",
       "      <th>state</th>\n",
       "      <th>rating</th>\n",
       "      <th>reviews</th>\n",
       "      <th>company_score</th>\n",
       "    </tr>\n",
       "  </thead>\n",
       "  <tbody>\n",
       "    <tr>\n",
       "      <th>0</th>\n",
       "      <td>Dan Harker - EmpowerHome Team Dallas</td>\n",
       "      <td>Real estate agency</td>\n",
       "      <td>Dallas</td>\n",
       "      <td>Texas</td>\n",
       "      <td>5.0</td>\n",
       "      <td>509.0</td>\n",
       "      <td>0.841380</td>\n",
       "    </tr>\n",
       "    <tr>\n",
       "      <th>1</th>\n",
       "      <td>Dwellinc Apartment Locating &amp; Realty</td>\n",
       "      <td>Real estate agency</td>\n",
       "      <td>Dallas</td>\n",
       "      <td>Texas</td>\n",
       "      <td>5.0</td>\n",
       "      <td>491.0</td>\n",
       "      <td>0.839989</td>\n",
       "    </tr>\n",
       "    <tr>\n",
       "      <th>2</th>\n",
       "      <td>Livian DFW</td>\n",
       "      <td>Real estate agency</td>\n",
       "      <td>Dallas</td>\n",
       "      <td>Texas</td>\n",
       "      <td>5.0</td>\n",
       "      <td>256.0</td>\n",
       "      <td>0.814846</td>\n",
       "    </tr>\n",
       "    <tr>\n",
       "      <th>3</th>\n",
       "      <td>Terratino</td>\n",
       "      <td>Real estate agent</td>\n",
       "      <td>Dallas</td>\n",
       "      <td>Texas</td>\n",
       "      <td>4.9</td>\n",
       "      <td>300.0</td>\n",
       "      <td>0.805964</td>\n",
       "    </tr>\n",
       "    <tr>\n",
       "      <th>4</th>\n",
       "      <td>Templeton Real Estate Group</td>\n",
       "      <td>Real estate agency</td>\n",
       "      <td>Dallas</td>\n",
       "      <td>Texas</td>\n",
       "      <td>5.0</td>\n",
       "      <td>191.0</td>\n",
       "      <td>0.803556</td>\n",
       "    </tr>\n",
       "  </tbody>\n",
       "</table>\n",
       "</div>"
      ],
      "text/plain": [
       "                                   name                type    city  state  \\\n",
       "0  Dan Harker - EmpowerHome Team Dallas  Real estate agency  Dallas  Texas   \n",
       "1  Dwellinc Apartment Locating & Realty  Real estate agency  Dallas  Texas   \n",
       "2                            Livian DFW  Real estate agency  Dallas  Texas   \n",
       "3                             Terratino   Real estate agent  Dallas  Texas   \n",
       "4           Templeton Real Estate Group  Real estate agency  Dallas  Texas   \n",
       "\n",
       "   rating  reviews  company_score  \n",
       "0     5.0    509.0       0.841380  \n",
       "1     5.0    491.0       0.839989  \n",
       "2     5.0    256.0       0.814846  \n",
       "3     4.9    300.0       0.805964  \n",
       "4     5.0    191.0       0.803556  "
      ]
     },
     "execution_count": 81,
     "metadata": {},
     "output_type": "execute_result"
    }
   ],
   "source": [
    "get_company_profiles_city_state_type_sorted_by_score(engine, city=\"Dallas\", type=types_considered, limit=5)"
   ]
  },
  {
   "cell_type": "markdown",
   "metadata": {},
   "source": [
    "##### Seatle"
   ]
  },
  {
   "cell_type": "code",
   "execution_count": 82,
   "metadata": {
    "scrolled": true
   },
   "outputs": [
    {
     "name": "stderr",
     "output_type": "stream",
     "text": [
      "/tmp/ipykernel_11092/4129417398.py:57: UserWarning: pandas only supports SQLAlchemy connectable (engine/connection) or database string URI or sqlite3 DBAPI2 connection. Other DBAPI2 objects are not tested. Please consider using SQLAlchemy.\n",
      "  df = pd.read_sql(query, engine, params=params)\n"
     ]
    },
    {
     "data": {
      "text/html": [
       "<div>\n",
       "<style scoped>\n",
       "    .dataframe tbody tr th:only-of-type {\n",
       "        vertical-align: middle;\n",
       "    }\n",
       "\n",
       "    .dataframe tbody tr th {\n",
       "        vertical-align: top;\n",
       "    }\n",
       "\n",
       "    .dataframe thead th {\n",
       "        text-align: right;\n",
       "    }\n",
       "</style>\n",
       "<table border=\"1\" class=\"dataframe\">\n",
       "  <thead>\n",
       "    <tr style=\"text-align: right;\">\n",
       "      <th></th>\n",
       "      <th>name</th>\n",
       "      <th>type</th>\n",
       "      <th>city</th>\n",
       "      <th>state</th>\n",
       "      <th>rating</th>\n",
       "      <th>reviews</th>\n",
       "      <th>company_score</th>\n",
       "    </tr>\n",
       "  </thead>\n",
       "  <tbody>\n",
       "    <tr>\n",
       "      <th>0</th>\n",
       "      <td>Every Door Real Estate</td>\n",
       "      <td>Real estate agency</td>\n",
       "      <td>Seattle</td>\n",
       "      <td>Washington</td>\n",
       "      <td>5.0</td>\n",
       "      <td>791.0</td>\n",
       "      <td>0.858421</td>\n",
       "    </tr>\n",
       "    <tr>\n",
       "      <th>1</th>\n",
       "      <td>Geoff Hill</td>\n",
       "      <td>Real estate agent</td>\n",
       "      <td>Seattle</td>\n",
       "      <td>Washington</td>\n",
       "      <td>5.0</td>\n",
       "      <td>133.0</td>\n",
       "      <td>0.789632</td>\n",
       "    </tr>\n",
       "    <tr>\n",
       "      <th>2</th>\n",
       "      <td>Danny Greco Homes</td>\n",
       "      <td>Real estate agent</td>\n",
       "      <td>Seattle</td>\n",
       "      <td>Washington</td>\n",
       "      <td>5.0</td>\n",
       "      <td>122.0</td>\n",
       "      <td>0.786315</td>\n",
       "    </tr>\n",
       "    <tr>\n",
       "      <th>3</th>\n",
       "      <td>TRI STAR Team | RE/MAX NW</td>\n",
       "      <td>Real estate agency</td>\n",
       "      <td>Seattle</td>\n",
       "      <td>Washington</td>\n",
       "      <td>5.0</td>\n",
       "      <td>105.0</td>\n",
       "      <td>0.780556</td>\n",
       "    </tr>\n",
       "    <tr>\n",
       "      <th>4</th>\n",
       "      <td>SoundTeamRealty</td>\n",
       "      <td>Real estate agent</td>\n",
       "      <td>Seattle</td>\n",
       "      <td>Washington</td>\n",
       "      <td>5.0</td>\n",
       "      <td>101.0</td>\n",
       "      <td>0.779067</td>\n",
       "    </tr>\n",
       "  </tbody>\n",
       "</table>\n",
       "</div>"
      ],
      "text/plain": [
       "                        name                type     city       state  rating  \\\n",
       "0     Every Door Real Estate  Real estate agency  Seattle  Washington     5.0   \n",
       "1                 Geoff Hill   Real estate agent  Seattle  Washington     5.0   \n",
       "2          Danny Greco Homes   Real estate agent  Seattle  Washington     5.0   \n",
       "3  TRI STAR Team | RE/MAX NW  Real estate agency  Seattle  Washington     5.0   \n",
       "4            SoundTeamRealty   Real estate agent  Seattle  Washington     5.0   \n",
       "\n",
       "   reviews  company_score  \n",
       "0    791.0       0.858421  \n",
       "1    133.0       0.789632  \n",
       "2    122.0       0.786315  \n",
       "3    105.0       0.780556  \n",
       "4    101.0       0.779067  "
      ]
     },
     "execution_count": 82,
     "metadata": {},
     "output_type": "execute_result"
    }
   ],
   "source": [
    "get_company_profiles_city_state_type_sorted_by_score(engine, city=\"Seattle\", type=types_considered, limit=5)"
   ]
  },
  {
   "cell_type": "markdown",
   "metadata": {},
   "source": [
    "### Diversity and acessibility by city"
   ]
  },
  {
   "cell_type": "markdown",
   "metadata": {},
   "source": [
    "##### Accessibility"
   ]
  },
  {
   "cell_type": "code",
   "execution_count": 98,
   "metadata": {
    "jupyter": {
     "source_hidden": true
    }
   },
   "outputs": [],
   "source": [
    "query = f\"\"\"\n",
    "SELECT \n",
    "    dc.city,\n",
    "    (SUM(dc.wheelchair_accessible_entrance) / COUNT(*)) * 100 AS \"%Companies with Wheelchair Accessibility\"\n",
    "FROM \n",
    "    curated_dim_company_profiles_google_maps dc\n",
    "WHERE 1=1\n",
    "    AND {type_filter}\n",
    "GROUP BY dc.city;\n",
    "\"\"\""
   ]
  },
  {
   "cell_type": "code",
   "execution_count": 99,
   "metadata": {},
   "outputs": [
    {
     "name": "stderr",
     "output_type": "stream",
     "text": [
      "/tmp/ipykernel_11092/3752518698.py:1: UserWarning: pandas only supports SQLAlchemy connectable (engine/connection) or database string URI or sqlite3 DBAPI2 connection. Other DBAPI2 objects are not tested. Please consider using SQLAlchemy.\n",
      "  pd.read_sql(query, engine)\n"
     ]
    },
    {
     "data": {
      "text/html": [
       "<div>\n",
       "<style scoped>\n",
       "    .dataframe tbody tr th:only-of-type {\n",
       "        vertical-align: middle;\n",
       "    }\n",
       "\n",
       "    .dataframe tbody tr th {\n",
       "        vertical-align: top;\n",
       "    }\n",
       "\n",
       "    .dataframe thead th {\n",
       "        text-align: right;\n",
       "    }\n",
       "</style>\n",
       "<table border=\"1\" class=\"dataframe\">\n",
       "  <thead>\n",
       "    <tr style=\"text-align: right;\">\n",
       "      <th></th>\n",
       "      <th>city</th>\n",
       "      <th>%Companies with Wheelchair Accessibility</th>\n",
       "    </tr>\n",
       "  </thead>\n",
       "  <tbody>\n",
       "    <tr>\n",
       "      <th>0</th>\n",
       "      <td>Dallas</td>\n",
       "      <td>76.798561</td>\n",
       "    </tr>\n",
       "    <tr>\n",
       "      <th>1</th>\n",
       "      <td>Seattle</td>\n",
       "      <td>67.450059</td>\n",
       "    </tr>\n",
       "    <tr>\n",
       "      <th>2</th>\n",
       "      <td>Miami</td>\n",
       "      <td>71.907101</td>\n",
       "    </tr>\n",
       "  </tbody>\n",
       "</table>\n",
       "</div>"
      ],
      "text/plain": [
       "      city  %Companies with Wheelchair Accessibility\n",
       "0   Dallas                                 76.798561\n",
       "1  Seattle                                 67.450059\n",
       "2    Miami                                 71.907101"
      ]
     },
     "execution_count": 99,
     "metadata": {},
     "output_type": "execute_result"
    }
   ],
   "source": [
    "pd.read_sql(query, engine)"
   ]
  },
  {
   "cell_type": "markdown",
   "metadata": {},
   "source": [
    "Dallas: 76.80% of companies are wheelchair accessible, making it the city with the highest accessibility rate in the sample.\n",
    "Miami: Close behind Dallas, 71.91% of companies in Miami have wheelchair-accessible entrances.\n",
    "Seattle: 67.45% of companies in Seattle are accessible, showing slightly lower but still significant accessibility.\n",
    "This analysis indicates that over two-thirds of the companies in all three cities provide wheelchair access, reflecting a positive trend towards inclusivity. "
   ]
  },
  {
   "cell_type": "markdown",
   "metadata": {},
   "source": [
    "##### Trangender"
   ]
  },
  {
   "cell_type": "code",
   "execution_count": 128,
   "metadata": {
    "jupyter": {
     "source_hidden": true
    }
   },
   "outputs": [],
   "source": [
    "query = f\"\"\"\n",
    "SELECT \n",
    "    dc.city,\n",
    "    (SUM(dc.transgender_safespace) / COUNT(*)) * 100 AS \"%Companies with transgender safespace\"\n",
    "FROM \n",
    "    curated_dim_company_profiles_google_maps dc\n",
    "WHERE 1=1\n",
    "    AND {type_filter}\n",
    "GROUP BY dc.city;\n",
    "\"\"\""
   ]
  },
  {
   "cell_type": "code",
   "execution_count": 129,
   "metadata": {
    "scrolled": true
   },
   "outputs": [
    {
     "name": "stderr",
     "output_type": "stream",
     "text": [
      "/tmp/ipykernel_11092/3752518698.py:1: UserWarning: pandas only supports SQLAlchemy connectable (engine/connection) or database string URI or sqlite3 DBAPI2 connection. Other DBAPI2 objects are not tested. Please consider using SQLAlchemy.\n",
      "  pd.read_sql(query, engine)\n"
     ]
    },
    {
     "data": {
      "text/html": [
       "<div>\n",
       "<style scoped>\n",
       "    .dataframe tbody tr th:only-of-type {\n",
       "        vertical-align: middle;\n",
       "    }\n",
       "\n",
       "    .dataframe tbody tr th {\n",
       "        vertical-align: top;\n",
       "    }\n",
       "\n",
       "    .dataframe thead th {\n",
       "        text-align: right;\n",
       "    }\n",
       "</style>\n",
       "<table border=\"1\" class=\"dataframe\">\n",
       "  <thead>\n",
       "    <tr style=\"text-align: right;\">\n",
       "      <th></th>\n",
       "      <th>city</th>\n",
       "      <th>%Companies with transgender safespace</th>\n",
       "    </tr>\n",
       "  </thead>\n",
       "  <tbody>\n",
       "    <tr>\n",
       "      <th>0</th>\n",
       "      <td>Dallas</td>\n",
       "      <td>1.798561</td>\n",
       "    </tr>\n",
       "    <tr>\n",
       "      <th>1</th>\n",
       "      <td>Seattle</td>\n",
       "      <td>5.287897</td>\n",
       "    </tr>\n",
       "    <tr>\n",
       "      <th>2</th>\n",
       "      <td>Miami</td>\n",
       "      <td>1.875837</td>\n",
       "    </tr>\n",
       "  </tbody>\n",
       "</table>\n",
       "</div>"
      ],
      "text/plain": [
       "      city  %Companies with transgender safespace\n",
       "0   Dallas                               1.798561\n",
       "1  Seattle                               5.287897\n",
       "2    Miami                               1.875837"
      ]
     },
     "execution_count": 129,
     "metadata": {},
     "output_type": "execute_result"
    }
   ],
   "source": [
    "pd.read_sql(query, engine)"
   ]
  },
  {
   "cell_type": "markdown",
   "metadata": {},
   "source": [
    "In this analysis of companies providing transgender safespaces, the data reveals that:\n",
    "\n",
    "Seattle has the highest percentage of companies offering transgender safespaces, at 5.29%.\n",
    "Miami comes next with 1.88%.\n",
    "Dallas has the lowest percentage, at 1.80%.\n",
    "It’s important to note that these percentages do not necessarily indicate that companies in Dallas or Miami are less inclusive or transphobic. The low percentages could simply reflect the fact that many companies may not have filled out or updated this specific field in their profiles."
   ]
  },
  {
   "cell_type": "markdown",
   "metadata": {},
   "source": [
    "### Share of each company type"
   ]
  },
  {
   "cell_type": "code",
   "execution_count": 133,
   "metadata": {
    "jupyter": {
     "source_hidden": true
    }
   },
   "outputs": [],
   "source": [
    "query = f\"\"\"\n",
    "SELECT \n",
    "    type,\n",
    "    COUNT(*) AS total_companies,\n",
    "    ROUND((COUNT(*)::decimal / SUM(COUNT(*)) OVER ()) * 100, 2) AS \"%Representation\"\n",
    "FROM \n",
    "    curated_dim_company_profiles_google_maps dc\n",
    "WHERE 1=1\n",
    "    AND {type_filter}\n",
    "GROUP BY \n",
    "    type\n",
    "ORDER BY \n",
    "    \"%Representation\" DESC;\n",
    "\"\"\""
   ]
  },
  {
   "cell_type": "code",
   "execution_count": 134,
   "metadata": {},
   "outputs": [
    {
     "name": "stderr",
     "output_type": "stream",
     "text": [
      "/tmp/ipykernel_11092/3752518698.py:1: UserWarning: pandas only supports SQLAlchemy connectable (engine/connection) or database string URI or sqlite3 DBAPI2 connection. Other DBAPI2 objects are not tested. Please consider using SQLAlchemy.\n",
      "  pd.read_sql(query, engine)\n"
     ]
    },
    {
     "data": {
      "text/html": [
       "<div>\n",
       "<style scoped>\n",
       "    .dataframe tbody tr th:only-of-type {\n",
       "        vertical-align: middle;\n",
       "    }\n",
       "\n",
       "    .dataframe tbody tr th {\n",
       "        vertical-align: top;\n",
       "    }\n",
       "\n",
       "    .dataframe thead th {\n",
       "        text-align: right;\n",
       "    }\n",
       "</style>\n",
       "<table border=\"1\" class=\"dataframe\">\n",
       "  <thead>\n",
       "    <tr style=\"text-align: right;\">\n",
       "      <th></th>\n",
       "      <th>type</th>\n",
       "      <th>total_companies</th>\n",
       "      <th>%Representation</th>\n",
       "    </tr>\n",
       "  </thead>\n",
       "  <tbody>\n",
       "    <tr>\n",
       "      <th>0</th>\n",
       "      <td>Real estate agency</td>\n",
       "      <td>2006</td>\n",
       "      <td>47.74</td>\n",
       "    </tr>\n",
       "    <tr>\n",
       "      <th>1</th>\n",
       "      <td>Real estate agent</td>\n",
       "      <td>1807</td>\n",
       "      <td>43.00</td>\n",
       "    </tr>\n",
       "    <tr>\n",
       "      <th>2</th>\n",
       "      <td>Real estate consultant</td>\n",
       "      <td>312</td>\n",
       "      <td>7.43</td>\n",
       "    </tr>\n",
       "    <tr>\n",
       "      <th>3</th>\n",
       "      <td>Property management company</td>\n",
       "      <td>76</td>\n",
       "      <td>1.81</td>\n",
       "    </tr>\n",
       "    <tr>\n",
       "      <th>4</th>\n",
       "      <td>Property investment</td>\n",
       "      <td>1</td>\n",
       "      <td>0.02</td>\n",
       "    </tr>\n",
       "  </tbody>\n",
       "</table>\n",
       "</div>"
      ],
      "text/plain": [
       "                          type  total_companies  %Representation\n",
       "0           Real estate agency             2006            47.74\n",
       "1            Real estate agent             1807            43.00\n",
       "2       Real estate consultant              312             7.43\n",
       "3  Property management company               76             1.81\n",
       "4          Property investment                1             0.02"
      ]
     },
     "execution_count": 134,
     "metadata": {},
     "output_type": "execute_result"
    }
   ],
   "source": [
    "pd.read_sql(query, engine)"
   ]
  },
  {
   "cell_type": "markdown",
   "metadata": {},
   "source": [
    "This breakdown highlights that real estate agencies and agents dominate the industry, while other types of real estate companies, such as consultants, management companies, and investors, hold much smaller shares."
   ]
  },
  {
   "cell_type": "markdown",
   "metadata": {},
   "source": [
    "### Most common company working hours"
   ]
  },
  {
   "cell_type": "markdown",
   "metadata": {},
   "source": [
    "##### Weekedays"
   ]
  },
  {
   "cell_type": "code",
   "execution_count": 143,
   "metadata": {
    "jupyter": {
     "source_hidden": true
    }
   },
   "outputs": [],
   "source": [
    "query = f\"\"\"\n",
    "SELECT \n",
    "    weekdays_working_hours,\n",
    "    COUNT(*) AS total_companies,\n",
    "    ROUND((COUNT(*)::decimal / SUM(COUNT(*)) OVER ()) * 100, 2) AS \"%Representation\"\n",
    "FROM \n",
    "    curated_dim_company_profiles_google_maps dc\n",
    "WHERE 1=1\n",
    "    AND {type_filter}\n",
    "    AND weekdays_working_hours is not null\n",
    "GROUP BY \n",
    "    weekdays_working_hours\n",
    "ORDER BY \n",
    "    \"%Representation\" DESC\n",
    "LIMIT 10\n",
    "\"\"\""
   ]
  },
  {
   "cell_type": "code",
   "execution_count": 144,
   "metadata": {
    "scrolled": true
   },
   "outputs": [
    {
     "name": "stderr",
     "output_type": "stream",
     "text": [
      "/tmp/ipykernel_11092/3752518698.py:1: UserWarning: pandas only supports SQLAlchemy connectable (engine/connection) or database string URI or sqlite3 DBAPI2 connection. Other DBAPI2 objects are not tested. Please consider using SQLAlchemy.\n",
      "  pd.read_sql(query, engine)\n"
     ]
    },
    {
     "data": {
      "text/html": [
       "<div>\n",
       "<style scoped>\n",
       "    .dataframe tbody tr th:only-of-type {\n",
       "        vertical-align: middle;\n",
       "    }\n",
       "\n",
       "    .dataframe tbody tr th {\n",
       "        vertical-align: top;\n",
       "    }\n",
       "\n",
       "    .dataframe thead th {\n",
       "        text-align: right;\n",
       "    }\n",
       "</style>\n",
       "<table border=\"1\" class=\"dataframe\">\n",
       "  <thead>\n",
       "    <tr style=\"text-align: right;\">\n",
       "      <th></th>\n",
       "      <th>weekdays_working_hours</th>\n",
       "      <th>total_companies</th>\n",
       "      <th>%Representation</th>\n",
       "    </tr>\n",
       "  </thead>\n",
       "  <tbody>\n",
       "    <tr>\n",
       "      <th>0</th>\n",
       "      <td>Open 24 hours</td>\n",
       "      <td>726</td>\n",
       "      <td>21.68</td>\n",
       "    </tr>\n",
       "    <tr>\n",
       "      <th>1</th>\n",
       "      <td>9AM-5PM</td>\n",
       "      <td>708</td>\n",
       "      <td>21.15</td>\n",
       "    </tr>\n",
       "    <tr>\n",
       "      <th>2</th>\n",
       "      <td>9AM-6PM</td>\n",
       "      <td>295</td>\n",
       "      <td>8.81</td>\n",
       "    </tr>\n",
       "    <tr>\n",
       "      <th>3</th>\n",
       "      <td>8AM-8PM</td>\n",
       "      <td>204</td>\n",
       "      <td>6.09</td>\n",
       "    </tr>\n",
       "    <tr>\n",
       "      <th>4</th>\n",
       "      <td>9AM-7PM</td>\n",
       "      <td>180</td>\n",
       "      <td>5.38</td>\n",
       "    </tr>\n",
       "    <tr>\n",
       "      <th>5</th>\n",
       "      <td>9AM-8PM</td>\n",
       "      <td>111</td>\n",
       "      <td>3.32</td>\n",
       "    </tr>\n",
       "    <tr>\n",
       "      <th>6</th>\n",
       "      <td>9AM-9PM</td>\n",
       "      <td>96</td>\n",
       "      <td>2.87</td>\n",
       "    </tr>\n",
       "    <tr>\n",
       "      <th>7</th>\n",
       "      <td>8AM-6PM</td>\n",
       "      <td>91</td>\n",
       "      <td>2.72</td>\n",
       "    </tr>\n",
       "    <tr>\n",
       "      <th>8</th>\n",
       "      <td>8AM-7PM</td>\n",
       "      <td>86</td>\n",
       "      <td>2.57</td>\n",
       "    </tr>\n",
       "    <tr>\n",
       "      <th>9</th>\n",
       "      <td>8AM-5PM</td>\n",
       "      <td>82</td>\n",
       "      <td>2.45</td>\n",
       "    </tr>\n",
       "  </tbody>\n",
       "</table>\n",
       "</div>"
      ],
      "text/plain": [
       "  weekdays_working_hours  total_companies  %Representation\n",
       "0          Open 24 hours              726            21.68\n",
       "1                9AM-5PM              708            21.15\n",
       "2                9AM-6PM              295             8.81\n",
       "3                8AM-8PM              204             6.09\n",
       "4                9AM-7PM              180             5.38\n",
       "5                9AM-8PM              111             3.32\n",
       "6                9AM-9PM               96             2.87\n",
       "7                8AM-6PM               91             2.72\n",
       "8                8AM-7PM               86             2.57\n",
       "9                8AM-5PM               82             2.45"
      ]
     },
     "execution_count": 144,
     "metadata": {},
     "output_type": "execute_result"
    }
   ],
   "source": [
    "pd.read_sql(query, engine)"
   ]
  },
  {
   "cell_type": "markdown",
   "metadata": {},
   "source": [
    "The two most common working hours setups are either 24/7 operations or the traditional 9 AM - 5 PM schedule, showing a balance between companies that are always available and those that follow conventional working hours. The rest of the companies show variability with extended business hours, suggesting some flexibility to accommodate customers with different schedules."
   ]
  },
  {
   "cell_type": "markdown",
   "metadata": {},
   "source": [
    "##### Saturdays"
   ]
  },
  {
   "cell_type": "code",
   "execution_count": 149,
   "metadata": {
    "jupyter": {
     "source_hidden": true
    }
   },
   "outputs": [],
   "source": [
    "query = f\"\"\"\n",
    "SELECT \n",
    "    saturday_working_hours,\n",
    "    COUNT(*) AS total_companies,\n",
    "    ROUND((COUNT(*)::decimal / SUM(COUNT(*)) OVER ()) * 100, 2) AS \"%Representation\"\n",
    "FROM \n",
    "    curated_dim_company_profiles_google_maps dc\n",
    "WHERE 1=1\n",
    "    AND {type_filter}\n",
    "    AND saturday_working_hours is not null\n",
    "GROUP BY \n",
    "    saturday_working_hours\n",
    "ORDER BY \n",
    "    \"%Representation\" DESC\n",
    "LIMIT 10\n",
    "\"\"\""
   ]
  },
  {
   "cell_type": "code",
   "execution_count": 150,
   "metadata": {},
   "outputs": [
    {
     "name": "stderr",
     "output_type": "stream",
     "text": [
      "/tmp/ipykernel_11092/3752518698.py:1: UserWarning: pandas only supports SQLAlchemy connectable (engine/connection) or database string URI or sqlite3 DBAPI2 connection. Other DBAPI2 objects are not tested. Please consider using SQLAlchemy.\n",
      "  pd.read_sql(query, engine)\n"
     ]
    },
    {
     "data": {
      "text/html": [
       "<div>\n",
       "<style scoped>\n",
       "    .dataframe tbody tr th:only-of-type {\n",
       "        vertical-align: middle;\n",
       "    }\n",
       "\n",
       "    .dataframe tbody tr th {\n",
       "        vertical-align: top;\n",
       "    }\n",
       "\n",
       "    .dataframe thead th {\n",
       "        text-align: right;\n",
       "    }\n",
       "</style>\n",
       "<table border=\"1\" class=\"dataframe\">\n",
       "  <thead>\n",
       "    <tr style=\"text-align: right;\">\n",
       "      <th></th>\n",
       "      <th>saturday_working_hours</th>\n",
       "      <th>total_companies</th>\n",
       "      <th>%Representation</th>\n",
       "    </tr>\n",
       "  </thead>\n",
       "  <tbody>\n",
       "    <tr>\n",
       "      <th>0</th>\n",
       "      <td>Closed</td>\n",
       "      <td>995</td>\n",
       "      <td>29.72</td>\n",
       "    </tr>\n",
       "    <tr>\n",
       "      <th>1</th>\n",
       "      <td>Open 24 hours</td>\n",
       "      <td>719</td>\n",
       "      <td>21.48</td>\n",
       "    </tr>\n",
       "    <tr>\n",
       "      <th>2</th>\n",
       "      <td>9AM-5PM</td>\n",
       "      <td>187</td>\n",
       "      <td>5.59</td>\n",
       "    </tr>\n",
       "    <tr>\n",
       "      <th>3</th>\n",
       "      <td>8AM-8PM</td>\n",
       "      <td>178</td>\n",
       "      <td>5.32</td>\n",
       "    </tr>\n",
       "    <tr>\n",
       "      <th>4</th>\n",
       "      <td>9AM-7PM</td>\n",
       "      <td>115</td>\n",
       "      <td>3.43</td>\n",
       "    </tr>\n",
       "    <tr>\n",
       "      <th>5</th>\n",
       "      <td>9AM-6PM</td>\n",
       "      <td>114</td>\n",
       "      <td>3.41</td>\n",
       "    </tr>\n",
       "    <tr>\n",
       "      <th>6</th>\n",
       "      <td>9AM-9PM</td>\n",
       "      <td>89</td>\n",
       "      <td>2.66</td>\n",
       "    </tr>\n",
       "    <tr>\n",
       "      <th>7</th>\n",
       "      <td>9AM-8PM</td>\n",
       "      <td>68</td>\n",
       "      <td>2.03</td>\n",
       "    </tr>\n",
       "    <tr>\n",
       "      <th>8</th>\n",
       "      <td>8AM-9PM</td>\n",
       "      <td>65</td>\n",
       "      <td>1.94</td>\n",
       "    </tr>\n",
       "    <tr>\n",
       "      <th>9</th>\n",
       "      <td>10AM-4PM</td>\n",
       "      <td>54</td>\n",
       "      <td>1.61</td>\n",
       "    </tr>\n",
       "  </tbody>\n",
       "</table>\n",
       "</div>"
      ],
      "text/plain": [
       "  saturday_working_hours  total_companies  %Representation\n",
       "0                 Closed              995            29.72\n",
       "1          Open 24 hours              719            21.48\n",
       "2                9AM-5PM              187             5.59\n",
       "3                8AM-8PM              178             5.32\n",
       "4                9AM-7PM              115             3.43\n",
       "5                9AM-6PM              114             3.41\n",
       "6                9AM-9PM               89             2.66\n",
       "7                9AM-8PM               68             2.03\n",
       "8                8AM-9PM               65             1.94\n",
       "9               10AM-4PM               54             1.61"
      ]
     },
     "execution_count": 150,
     "metadata": {},
     "output_type": "execute_result"
    }
   ],
   "source": [
    "pd.read_sql(query, engine)"
   ]
  },
  {
   "cell_type": "markdown",
   "metadata": {},
   "source": [
    "##### Sundays"
   ]
  },
  {
   "cell_type": "code",
   "execution_count": 151,
   "metadata": {
    "jupyter": {
     "source_hidden": true
    }
   },
   "outputs": [],
   "source": [
    "query = f\"\"\"\n",
    "SELECT \n",
    "    sunday_working_hours,\n",
    "    COUNT(*) AS total_companies,\n",
    "    ROUND((COUNT(*)::decimal / SUM(COUNT(*)) OVER ()) * 100, 2) AS \"%Representation\"\n",
    "FROM \n",
    "    curated_dim_company_profiles_google_maps dc\n",
    "WHERE 1=1\n",
    "    AND {type_filter}\n",
    "    AND sunday_working_hours is not null\n",
    "GROUP BY \n",
    "    sunday_working_hours\n",
    "ORDER BY \n",
    "    \"%Representation\" DESC\n",
    "LIMIT 10\n",
    "\"\"\""
   ]
  },
  {
   "cell_type": "code",
   "execution_count": 152,
   "metadata": {
    "scrolled": true
   },
   "outputs": [
    {
     "name": "stderr",
     "output_type": "stream",
     "text": [
      "/tmp/ipykernel_11092/3752518698.py:1: UserWarning: pandas only supports SQLAlchemy connectable (engine/connection) or database string URI or sqlite3 DBAPI2 connection. Other DBAPI2 objects are not tested. Please consider using SQLAlchemy.\n",
      "  pd.read_sql(query, engine)\n"
     ]
    },
    {
     "data": {
      "text/html": [
       "<div>\n",
       "<style scoped>\n",
       "    .dataframe tbody tr th:only-of-type {\n",
       "        vertical-align: middle;\n",
       "    }\n",
       "\n",
       "    .dataframe tbody tr th {\n",
       "        vertical-align: top;\n",
       "    }\n",
       "\n",
       "    .dataframe thead th {\n",
       "        text-align: right;\n",
       "    }\n",
       "</style>\n",
       "<table border=\"1\" class=\"dataframe\">\n",
       "  <thead>\n",
       "    <tr style=\"text-align: right;\">\n",
       "      <th></th>\n",
       "      <th>sunday_working_hours</th>\n",
       "      <th>total_companies</th>\n",
       "      <th>%Representation</th>\n",
       "    </tr>\n",
       "  </thead>\n",
       "  <tbody>\n",
       "    <tr>\n",
       "      <th>0</th>\n",
       "      <td>Closed</td>\n",
       "      <td>1447</td>\n",
       "      <td>43.22</td>\n",
       "    </tr>\n",
       "    <tr>\n",
       "      <th>1</th>\n",
       "      <td>Open 24 hours</td>\n",
       "      <td>695</td>\n",
       "      <td>20.76</td>\n",
       "    </tr>\n",
       "    <tr>\n",
       "      <th>2</th>\n",
       "      <td>8AM-8PM</td>\n",
       "      <td>151</td>\n",
       "      <td>4.51</td>\n",
       "    </tr>\n",
       "    <tr>\n",
       "      <th>3</th>\n",
       "      <td>9AM-5PM</td>\n",
       "      <td>124</td>\n",
       "      <td>3.70</td>\n",
       "    </tr>\n",
       "    <tr>\n",
       "      <th>4</th>\n",
       "      <td>9AM-9PM</td>\n",
       "      <td>72</td>\n",
       "      <td>2.15</td>\n",
       "    </tr>\n",
       "    <tr>\n",
       "      <th>5</th>\n",
       "      <td>9AM-6PM</td>\n",
       "      <td>70</td>\n",
       "      <td>2.09</td>\n",
       "    </tr>\n",
       "    <tr>\n",
       "      <th>6</th>\n",
       "      <td>9AM-7PM</td>\n",
       "      <td>67</td>\n",
       "      <td>2.00</td>\n",
       "    </tr>\n",
       "    <tr>\n",
       "      <th>7</th>\n",
       "      <td>8AM-9PM</td>\n",
       "      <td>55</td>\n",
       "      <td>1.64</td>\n",
       "    </tr>\n",
       "    <tr>\n",
       "      <th>8</th>\n",
       "      <td>9AM-8PM</td>\n",
       "      <td>55</td>\n",
       "      <td>1.64</td>\n",
       "    </tr>\n",
       "    <tr>\n",
       "      <th>9</th>\n",
       "      <td>8AM-7PM</td>\n",
       "      <td>43</td>\n",
       "      <td>1.28</td>\n",
       "    </tr>\n",
       "  </tbody>\n",
       "</table>\n",
       "</div>"
      ],
      "text/plain": [
       "  sunday_working_hours  total_companies  %Representation\n",
       "0               Closed             1447            43.22\n",
       "1        Open 24 hours              695            20.76\n",
       "2              8AM-8PM              151             4.51\n",
       "3              9AM-5PM              124             3.70\n",
       "4              9AM-9PM               72             2.15\n",
       "5              9AM-6PM               70             2.09\n",
       "6              9AM-7PM               67             2.00\n",
       "7              8AM-9PM               55             1.64\n",
       "8              9AM-8PM               55             1.64\n",
       "9              8AM-7PM               43             1.28"
      ]
     },
     "execution_count": 152,
     "metadata": {},
     "output_type": "execute_result"
    }
   ],
   "source": [
    "pd.read_sql(query, engine)"
   ]
  },
  {
   "cell_type": "markdown",
   "metadata": {},
   "source": [
    "This trend highlights the general reduction in business operations over the weekend, particularly on Sundays. However, there is still a notable proportion of companies that provide services throughout the weekend, with many offering 24-hour service."
   ]
  },
  {
   "cell_type": "markdown",
   "metadata": {},
   "source": [
    "### Most used adjectives for the top 50 best real state companies with reviews (sentimental analysis)"
   ]
  },
  {
   "cell_type": "code",
   "execution_count": 166,
   "metadata": {
    "jupyter": {
     "source_hidden": true
    }
   },
   "outputs": [],
   "source": [
    "query = f\"\"\"\n",
    "WITH adjectives as (\n",
    "    SELECT google_id, adjectives\n",
    "    FROM\n",
    "        curated_fact_customer_reviews_google\n",
    "    GROUP BY\n",
    "        google_id\n",
    ")\n",
    "\n",
    "with top_100_companies (\n",
    "SELECT \n",
    "    dc.*, sc.company_profile_score as score\n",
    "FROM \n",
    "    curated_dim_company_profiles_google_maps dc\n",
    "INNER JOIN\n",
    "    curated_score_company_profiles_google_maps sc\n",
    "ON\n",
    "    sc.google_id = fc.google_id\n",
    "INNER JOIN\n",
    "    curated_fact_customer_reviews_google fcr\n",
    "ON\n",
    "    fcr.google_id = fc.google_id\n",
    "    \n",
    "LEFT JOIN\n",
    "    reviews_scorea\n",
    "WHERE 1=1\n",
    "    AND {type_filter}\n",
    "ORDER BY company_profile_score DESC)\n",
    "\n",
    "SELECT distinct adjectives\n",
    "FROM top_100_companies left\n",
    "\n",
    "\n",
    "\"\"\""
   ]
  },
  {
   "cell_type": "code",
   "execution_count": 194,
   "metadata": {
    "jupyter": {
     "source_hidden": true
    }
   },
   "outputs": [],
   "source": [
    "query = f\"\"\"\n",
    "WITH reviews_score as (\n",
    "    SELECT google_id, AVG(user_review_score) as review_score\n",
    "    FROM\n",
    "        curated_score_customer_reviews_google\n",
    "    GROUP BY\n",
    "        google_id\n",
    "),\n",
    "\n",
    "top_50_companies_with_reviews as (\n",
    "SELECT \n",
    "    dc.google_id, fc.company_profile_score as company_score\n",
    "FROM \n",
    "    curated_dim_company_profiles_google_maps dc\n",
    "INNER JOIN\n",
    "    curated_score_company_profiles_google_maps fc\n",
    "ON\n",
    "    dc.google_id = fc.google_id\n",
    "INNER JOIN\n",
    "    reviews_score rs\n",
    "ON rs.google_id = fc.google_id\n",
    "WHERE 1=1\n",
    "    AND review_score is not null\n",
    "    AND {type_filter}\n",
    "\n",
    "ORDER BY \n",
    "    company_profile_score DESC\n",
    "LIMIT 50)\n",
    "\n",
    "SELECT distinct adjectives\n",
    "FROM \n",
    "    top_50_companies_with_reviews tc\n",
    "LEFT JOIN\n",
    "    curated_fact_customer_reviews_google fc\n",
    "ON\n",
    "    tc.google_id = fc.google_id\n",
    "\"\"\""
   ]
  },
  {
   "cell_type": "code",
   "execution_count": 195,
   "metadata": {},
   "outputs": [
    {
     "name": "stderr",
     "output_type": "stream",
     "text": [
      "/tmp/ipykernel_11092/1851159711.py:1: UserWarning: pandas only supports SQLAlchemy connectable (engine/connection) or database string URI or sqlite3 DBAPI2 connection. Other DBAPI2 objects are not tested. Please consider using SQLAlchemy.\n",
      "  df_adjectives = pd.read_sql(query, engine)\n"
     ]
    }
   ],
   "source": [
    "df_adjectives = pd.read_sql(query, engine)"
   ]
  },
  {
   "cell_type": "code",
   "execution_count": 196,
   "metadata": {
    "jupyter": {
     "source_hidden": true
    }
   },
   "outputs": [],
   "source": [
    "def count_adjectives(df, col):\n",
    "    \"\"\"\n",
    "    \"\"\"\n",
    "    \n",
    "    adj_series = (\n",
    "        df[col]\n",
    "        .dropna()\n",
    "        .astype(str)\n",
    "        .str.split(',')\n",
    "        .explode()\n",
    "        .str.strip()\n",
    "    )\n",
    "    \n",
    "    count = adj_series.value_counts().reset_index()\n",
    "    count.columns = ['adjective', 'count']\n",
    "    \n",
    "    return count\n"
   ]
  },
  {
   "cell_type": "code",
   "execution_count": 197,
   "metadata": {
    "scrolled": true
   },
   "outputs": [
    {
     "data": {
      "text/html": [
       "<div>\n",
       "<style scoped>\n",
       "    .dataframe tbody tr th:only-of-type {\n",
       "        vertical-align: middle;\n",
       "    }\n",
       "\n",
       "    .dataframe tbody tr th {\n",
       "        vertical-align: top;\n",
       "    }\n",
       "\n",
       "    .dataframe thead th {\n",
       "        text-align: right;\n",
       "    }\n",
       "</style>\n",
       "<table border=\"1\" class=\"dataframe\">\n",
       "  <thead>\n",
       "    <tr style=\"text-align: right;\">\n",
       "      <th></th>\n",
       "      <th>adjective</th>\n",
       "      <th>count</th>\n",
       "    </tr>\n",
       "  </thead>\n",
       "  <tbody>\n",
       "    <tr>\n",
       "      <th>0</th>\n",
       "      <td>great</td>\n",
       "      <td>943</td>\n",
       "    </tr>\n",
       "    <tr>\n",
       "      <th>1</th>\n",
       "      <td>first</td>\n",
       "      <td>857</td>\n",
       "    </tr>\n",
       "    <tr>\n",
       "      <th>2</th>\n",
       "      <td>real</td>\n",
       "      <td>718</td>\n",
       "    </tr>\n",
       "    <tr>\n",
       "      <th>3</th>\n",
       "      <td>best</td>\n",
       "      <td>591</td>\n",
       "    </tr>\n",
       "    <tr>\n",
       "      <th>4</th>\n",
       "      <td>professional</td>\n",
       "      <td>575</td>\n",
       "    </tr>\n",
       "    <tr>\n",
       "      <th>5</th>\n",
       "      <td>knowledgeable</td>\n",
       "      <td>463</td>\n",
       "    </tr>\n",
       "    <tr>\n",
       "      <th>6</th>\n",
       "      <td>new</td>\n",
       "      <td>453</td>\n",
       "    </tr>\n",
       "    <tr>\n",
       "      <th>7</th>\n",
       "      <td>able</td>\n",
       "      <td>386</td>\n",
       "    </tr>\n",
       "    <tr>\n",
       "      <th>8</th>\n",
       "      <td>responsive</td>\n",
       "      <td>358</td>\n",
       "    </tr>\n",
       "    <tr>\n",
       "      <th>9</th>\n",
       "      <td>easy</td>\n",
       "      <td>341</td>\n",
       "    </tr>\n",
       "  </tbody>\n",
       "</table>\n",
       "</div>"
      ],
      "text/plain": [
       "       adjective  count\n",
       "0          great    943\n",
       "1          first    857\n",
       "2           real    718\n",
       "3           best    591\n",
       "4   professional    575\n",
       "5  knowledgeable    463\n",
       "6            new    453\n",
       "7           able    386\n",
       "8     responsive    358\n",
       "9           easy    341"
      ]
     },
     "execution_count": 197,
     "metadata": {},
     "output_type": "execute_result"
    }
   ],
   "source": [
    "count_adjectives(df_adjectives, \"adjectives\").head(10)"
   ]
  },
  {
   "cell_type": "markdown",
   "metadata": {},
   "source": [
    "This analysis indicates that customers generally have a very positive perception of the top real estate companies. Words like \"great,\" \"best,\" and \"professional\" reflect a high level of satisfaction. Additionally, terms like \"knowledgeable\" and \"responsive\" suggest that customers value expertise and timely responses from these companies."
   ]
  },
  {
   "cell_type": "code",
   "execution_count": null,
   "metadata": {},
   "outputs": [],
   "source": []
  }
 ],
 "metadata": {
  "kernelspec": {
   "display_name": "Python 3 (ipykernel)",
   "language": "python",
   "name": "python3"
  },
  "language_info": {
   "codemirror_mode": {
    "name": "ipython",
    "version": 3
   },
   "file_extension": ".py",
   "mimetype": "text/x-python",
   "name": "python",
   "nbconvert_exporter": "python",
   "pygments_lexer": "ipython3",
   "version": "3.11.6"
  }
 },
 "nbformat": 4,
 "nbformat_minor": 4
}
